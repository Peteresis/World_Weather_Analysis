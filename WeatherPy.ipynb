{
 "cells": [
  {
   "cell_type": "markdown",
   "id": "31a08663",
   "metadata": {},
   "source": [
    "# Section 6.1.4 Generate Random Latitudes and Longitudes"
   ]
  },
  {
   "cell_type": "code",
   "execution_count": 1,
   "id": "b2027458",
   "metadata": {},
   "outputs": [],
   "source": [
    "# Import the random module.\n",
    "import random"
   ]
  },
  {
   "cell_type": "markdown",
   "id": "c9c1a7ac",
   "metadata": {},
   "source": [
    "### For testing, we'll use the randint(), random(), randrange(), and uniform() functions."
   ]
  },
  {
   "cell_type": "code",
   "execution_count": 2,
   "id": "ff2cc30d",
   "metadata": {},
   "outputs": [
    {
     "data": {
      "text/plain": [
       "-36"
      ]
     },
     "execution_count": 2,
     "metadata": {},
     "output_type": "execute_result"
    }
   ],
   "source": [
    "random.randint(-90, 90)\n"
   ]
  },
  {
   "cell_type": "code",
   "execution_count": 3,
   "id": "899813cb",
   "metadata": {},
   "outputs": [
    {
     "data": {
      "text/plain": [
       "0.3455574757772616"
      ]
     },
     "execution_count": 3,
     "metadata": {},
     "output_type": "execute_result"
    }
   ],
   "source": [
    "random.random()"
   ]
  },
  {
   "cell_type": "code",
   "execution_count": 4,
   "id": "d4975547",
   "metadata": {},
   "outputs": [
    {
     "data": {
      "text/plain": [
       "89.73906203001414"
      ]
     },
     "execution_count": 4,
     "metadata": {},
     "output_type": "execute_result"
    }
   ],
   "source": [
    "random_number = random.randint(-90, 89) + random.random()\n",
    "random_number"
   ]
  },
  {
   "cell_type": "markdown",
   "id": "7b0670e8",
   "metadata": {},
   "source": [
    "### Here is a small sample of what it might take to generate ten random floating-point decimal latitudes between –90 and 89."
   ]
  },
  {
   "cell_type": "code",
   "execution_count": 5,
   "id": "e0a1fa74",
   "metadata": {},
   "outputs": [],
   "source": [
    "x = 1\n",
    "latitudes = []\n",
    "while x < 11:\n",
    "    random_lat = random.randint(-90, 89) + random.random()\n",
    "    latitudes.append(random_lat)\n",
    "    x += 1"
   ]
  },
  {
   "cell_type": "code",
   "execution_count": 6,
   "id": "1b04dc6b",
   "metadata": {},
   "outputs": [
    {
     "data": {
      "text/plain": [
       "[-78.44967112139949,\n",
       " -80.18634445483931,\n",
       " -25.792605097757452,\n",
       " -83.88958889681213,\n",
       " -20.291537684590747,\n",
       " -55.142727761297564,\n",
       " 35.14914566112088,\n",
       " 62.29969195839741,\n",
       " -13.868832368759776,\n",
       " -12.252683170684104]"
      ]
     },
     "execution_count": 6,
     "metadata": {},
     "output_type": "execute_result"
    }
   ],
   "source": [
    "latitudes"
   ]
  },
  {
   "cell_type": "code",
   "execution_count": 7,
   "id": "a9408e80",
   "metadata": {},
   "outputs": [
    {
     "data": {
      "text/plain": [
       "-15"
      ]
     },
     "execution_count": 7,
     "metadata": {},
     "output_type": "execute_result"
    }
   ],
   "source": [
    "random.randrange(-90, 90, step=3)"
   ]
  },
  {
   "cell_type": "code",
   "execution_count": 8,
   "id": "102098f1",
   "metadata": {},
   "outputs": [
    {
     "data": {
      "text/plain": [
       "41.808257042500486"
      ]
     },
     "execution_count": 8,
     "metadata": {},
     "output_type": "execute_result"
    }
   ],
   "source": [
    "random.uniform(-90, 90)"
   ]
  },
  {
   "cell_type": "code",
   "execution_count": 9,
   "id": "38f7be51",
   "metadata": {},
   "outputs": [],
   "source": [
    "# Import the NumPy module.\n",
    "import numpy as np"
   ]
  },
  {
   "cell_type": "markdown",
   "id": "42e1f077",
   "metadata": {},
   "source": [
    "#### This single line of code generates 50 random numbers with the amount of decimals that we need, all without using loops"
   ]
  },
  {
   "cell_type": "code",
   "execution_count": 10,
   "id": "a4b42861",
   "metadata": {
    "scrolled": true
   },
   "outputs": [
    {
     "data": {
      "text/plain": [
       "array([-77.8466012 ,  12.92954773, -45.64421771, -27.63504754,\n",
       "        28.51133284,  82.0967892 , -71.80334858, -64.13466738,\n",
       "        71.32907185, -11.6022444 , -88.68108228,  33.76105148,\n",
       "        67.30426931, -76.66790171,  -2.59372136, -35.54262504,\n",
       "       -85.46788879,  59.07397042, -81.32468568, -83.62579817,\n",
       "        89.58555995, -56.56421269,  68.2404715 , -63.30757174,\n",
       "       -20.50759608, -37.74492873,  47.53256889, -67.16969217,\n",
       "        -2.28726978, -48.79281272, -27.60247961,  52.90889552,\n",
       "         7.64717616,  89.54430416, -81.98833481, -80.89739085,\n",
       "       -33.77515047,  53.12927484, -44.12138088,  10.11726539,\n",
       "        22.42076063, -81.50631717,  80.96803826,  56.01430992,\n",
       "        51.47682586, -25.20396997,  38.03307702, -70.53763124,\n",
       "        32.5207669 , -43.32637896])"
      ]
     },
     "execution_count": 10,
     "metadata": {},
     "output_type": "execute_result"
    }
   ],
   "source": [
    "np.random.uniform(-90.000, 90.000, size=50)"
   ]
  },
  {
   "cell_type": "markdown",
   "id": "7724a19f",
   "metadata": {},
   "source": [
    "### Use of the function %timeit to measure the time it takes to run this command"
   ]
  },
  {
   "cell_type": "code",
   "execution_count": 11,
   "id": "231a2c71",
   "metadata": {},
   "outputs": [
    {
     "name": "stdout",
     "output_type": "stream",
     "text": [
      "6.17 µs ± 144 ns per loop (mean ± std. dev. of 7 runs, 100000 loops each)\n"
     ]
    }
   ],
   "source": [
    "%timeit np.random.uniform(-90.000, 90.000, size=50)"
   ]
  },
  {
   "cell_type": "markdown",
   "id": "1e0c9aec",
   "metadata": {},
   "source": [
    "### Now, generating 1500 latitudes and 1500 longitudes\n",
    "#### Remember: Latitude runs north-south and longitude runs east-west"
   ]
  },
  {
   "cell_type": "code",
   "execution_count": 12,
   "id": "abcd19ee",
   "metadata": {},
   "outputs": [],
   "source": [
    "latitudes = np.random.uniform(-90.000, 90.000, size=15000)"
   ]
  },
  {
   "cell_type": "code",
   "execution_count": 13,
   "id": "db76aea3",
   "metadata": {},
   "outputs": [
    {
     "data": {
      "text/plain": [
       "array([ 40.30639433,  -0.19827944, -21.36507964, ...,   5.85424071,\n",
       "         1.41634374, -73.04631522])"
      ]
     },
     "execution_count": 13,
     "metadata": {},
     "output_type": "execute_result"
    }
   ],
   "source": [
    "latitudes"
   ]
  },
  {
   "cell_type": "code",
   "execution_count": 16,
   "id": "4181eafb",
   "metadata": {},
   "outputs": [],
   "source": [
    "longitudes = np.random.uniform(-180, 180, size=15000)"
   ]
  },
  {
   "cell_type": "code",
   "execution_count": 17,
   "id": "62e8075f",
   "metadata": {},
   "outputs": [
    {
     "data": {
      "text/plain": [
       "array([158.45803259, -79.82681022, 120.42837638, ..., -71.66042886,\n",
       "        64.08678075, -51.40075142])"
      ]
     },
     "execution_count": 17,
     "metadata": {},
     "output_type": "execute_result"
    }
   ],
   "source": [
    "longitudes"
   ]
  },
  {
   "cell_type": "markdown",
   "id": "23b02ade",
   "metadata": {},
   "source": [
    "# Create Latitude and Longitude Combinations"
   ]
  },
  {
   "cell_type": "code",
   "execution_count": null,
   "id": "d735541b",
   "metadata": {},
   "outputs": [],
   "source": [
    "# Import the dependencies.\n",
    "import pandas as pd\n",
    "import matplotlib.pyplot as plt\n",
    "import numpy as np"
   ]
  },
  {
   "cell_type": "markdown",
   "id": "4c9227a7",
   "metadata": {},
   "source": [
    "### The zip object packs each pair of lats and lngs having the same index in their respective array into a tuple"
   ]
  },
  {
   "cell_type": "code",
   "execution_count": null,
   "id": "058fde23",
   "metadata": {},
   "outputs": [],
   "source": [
    "# Create a set of random latitude and longitude combinations.\n",
    "lats = np.random.uniform(low=-90.000, high=90.000, size=1500)\n",
    "lngs = np.random.uniform(low=-180.000, high=180.000, size=1500)\n",
    "lat_lngs = zip(lats, lngs)\n",
    "lat_lngs"
   ]
  },
  {
   "cell_type": "code",
   "execution_count": null,
   "id": "8f021bd3",
   "metadata": {},
   "outputs": [],
   "source": [
    "# Use the tuple() function to display the latitude and longitude combinations.\n",
    "for coordinate in lat_lngs:\n",
    "    print(coordinate[0], coordinate[1])"
   ]
  },
  {
   "cell_type": "markdown",
   "id": "325df1c7",
   "metadata": {},
   "source": [
    "### Now that we have our ordered pairs of latitudes and longitudes in a list, we can iterate through the list of tuples and find the nearest city to those coordinates."
   ]
  },
  {
   "cell_type": "markdown",
   "id": "dbe93e95",
   "metadata": {},
   "source": [
    "# Section 6.1.5 Generate Random World Cities"
   ]
  },
  {
   "cell_type": "markdown",
   "id": "0b4ff085",
   "metadata": {},
   "source": [
    "<body>\n",
    "<p><mark>\n",
    "The code shown in Canvas does not work, so I had to improvide another code to make the same function of generating a list of cities.</mark></p>\n",
    "    \n",
    "<p><mark><strong>NOTE:</strong> Citipy only has citites with 5,000 people or more</mark></p>\n",
    "\n",
    "</body>"
   ]
  },
  {
   "cell_type": "markdown",
   "id": "e8f8d2d5",
   "metadata": {},
   "source": [
    "## Use the citipy module to determine city based on latitude and longitude."
   ]
  },
  {
   "cell_type": "code",
   "execution_count": 28,
   "id": "1206b798",
   "metadata": {},
   "outputs": [],
   "source": [
    "from citipy import citipy"
   ]
  },
  {
   "cell_type": "markdown",
   "id": "dfe7658e",
   "metadata": {},
   "source": [
    "# Create a set of random latitude and longitude combinations."
   ]
  },
  {
   "cell_type": "code",
   "execution_count": 34,
   "id": "7b205ad9",
   "metadata": {},
   "outputs": [
    {
     "name": "stdout",
     "output_type": "stream",
     "text": [
      "ponta do sol pt\n",
      "guipavas fr\n",
      "izhma ru\n",
      "maralal ke\n",
      "saint andrews ca\n",
      "kapaa us\n",
      "serenje zm\n",
      "vaini to\n",
      "mataura pf\n",
      "ceres za\n",
      "ushuaia ar\n",
      "provideniya ru\n",
      "chuy uy\n",
      "rikitea pf\n",
      "salamiyah sy\n",
      "ancud cl\n",
      "itapipoca br\n",
      "carrick-on-suir ie\n",
      "humenne sk\n",
      "belushya guba ru\n",
      "yellowknife ca\n",
      "vaitupu wf\n",
      "cape town za\n",
      "sao jose da coroa grande br\n",
      "illoqqortoormiut gl\n",
      "saskylakh ru\n",
      "tuktoyaktuk ca\n",
      "saleaula ws\n",
      "brae gb\n",
      "jadu ly\n",
      "san patricio mx\n",
      "busselton au\n",
      "sitka us\n",
      "touros br\n",
      "formoso do araguaia br\n",
      "bluff nz\n",
      "albany au\n",
      "jamestown sh\n",
      "souillac mu\n",
      "tasiilaq gl\n",
      "vostok ru\n",
      "bethel us\n",
      "avarua ck\n",
      "mackenzie ca\n",
      "kavieng pg\n",
      "cockburn town bs\n",
      "bredasdorp za\n",
      "norman wells ca\n",
      "aklavik ca\n",
      "denpasar id\n",
      "haimen cn\n",
      "waipawa nz\n",
      "hobart au\n",
      "mys shmidta ru\n",
      "yurgamysh ru\n",
      "tumannyy ru\n",
      "mar del plata ar\n",
      "longyearbyen sj\n",
      "punta arenas cl\n",
      "nikolskoye ru\n",
      "rafaela ar\n",
      "bezerros br\n",
      "taolanaro mg\n",
      "plumlov cz\n",
      "clyde river ca\n",
      "wajir ke\n",
      "reconquista ar\n",
      "sur om\n",
      "kuche cn\n",
      "barrow us\n",
      "okmulgee us\n",
      "glubokiy ru\n",
      "nanortalik gl\n",
      "mercedes ar\n",
      "maulvi bazar bd\n",
      "hilo us\n",
      "krasnoye ru\n",
      "varkaus fi\n",
      "dhidhdhoo mv\n",
      "saint-philippe re\n",
      "luderitz na\n",
      "carnarvon au\n",
      "yomou gn\n",
      "taoudenni ml\n",
      "cidreira br\n",
      "anori br\n",
      "attawapiskat ca\n",
      "lagoa pt\n",
      "vardo no\n",
      "bandarbeyla so\n",
      "dikson ru\n",
      "barentsburg sj\n",
      "puerto ayora ec\n",
      "butaritari ki\n",
      "east london za\n",
      "iqaluit ca\n",
      "yarada in\n",
      "hay river ca\n",
      "bathsheba bb\n",
      "kamenka ru\n",
      "conroe us\n",
      "sinazongwe zm\n",
      "gazanjyk tm\n",
      "thano bula khan pk\n",
      "pemangkat id\n",
      "nome us\n",
      "karymskoye ru\n",
      "esperance au\n",
      "victoria sc\n",
      "castro cl\n",
      "ahuimanu us\n",
      "atuona pf\n",
      "severo-kurilsk ru\n",
      "hithadhoo mv\n",
      "larnaca cy\n",
      "pueblo bello co\n",
      "oistins bb\n",
      "slave lake ca\n",
      "palabuhanratu id\n",
      "bengkulu id\n",
      "husavik is\n",
      "hervey bay au\n",
      "new norfolk au\n",
      "leningradskiy ru\n",
      "zhanatas kz\n",
      "ribeira grande pt\n",
      "port alfred za\n",
      "peniche pt\n",
      "alpena us\n",
      "saint george bm\n",
      "mogochin ru\n",
      "tomatlan mx\n",
      "kodiak us\n",
      "lebu cl\n",
      "sentyabrskiy ru\n",
      "kiunga pg\n",
      "sorrento it\n",
      "mastic beach us\n",
      "shimoda jp\n",
      "tuysarkan ir\n",
      "vredendal za\n",
      "mabaruma gy\n",
      "ovsyanka ru\n",
      "kieta pg\n",
      "pevek ru\n",
      "tiksi ru\n",
      "sao filipe cv\n",
      "chifeng cn\n",
      "mareeba au\n",
      "yulara au\n",
      "torbay ca\n",
      "hermanus za\n",
      "samusu ws\n",
      "galbshtadt ru\n",
      "sembe cg\n",
      "portland au\n",
      "banepa np\n",
      "buraydah sa\n",
      "kupang id\n",
      "ponta delgada pt\n",
      "ahipara nz\n",
      "necochea ar\n",
      "hauterive ca\n",
      "golovchino ru\n",
      "temaraia ki\n",
      "airai pw\n",
      "port elizabeth za\n",
      "west bay ky\n",
      "kloulklubed pw\n",
      "toliary mg\n",
      "bubaque gw\n",
      "gaoyou cn\n",
      "kiama au\n",
      "olafsvik is\n",
      "qaanaaq gl\n",
      "upernavik gl\n",
      "georgetown sh\n",
      "karamay cn\n",
      "peleduy ru\n",
      "port blair in\n",
      "ewa beach us\n",
      "port hardy ca\n",
      "mahebourg mu\n",
      "dryden ca\n",
      "xining cn\n",
      "burgos es\n",
      "faya td\n",
      "rawson ar\n",
      "beidao cn\n",
      "chokurdakh ru\n",
      "wasilla us\n",
      "okhotsk ru\n",
      "ilulissat gl\n",
      "sukhobezvodnoye ru\n",
      "hovd mn\n",
      "alofi nu\n",
      "acajutla sv\n",
      "juegang cn\n",
      "lompoc us\n",
      "naze jp\n",
      "codrington ag\n",
      "severomorsk ru\n",
      "zalantun cn\n",
      "ust-omchug ru\n",
      "tigil ru\n",
      "verkhnyaya inta ru\n",
      "teguise es\n",
      "khatanga ru\n",
      "asosa et\n",
      "tarko-sale ru\n",
      "orocue co\n",
      "abu dhabi ae\n",
      "amderma ru\n",
      "bouar cf\n",
      "canon city us\n",
      "rakiv lis ua\n",
      "benalla au\n",
      "chastoozerye ru\n",
      "salem us\n",
      "tura ru\n",
      "concepcion del oro mx\n",
      "lolua tv\n",
      "pochutla mx\n",
      "kaitangata nz\n",
      "coahuayana mx\n",
      "petropavlovsk-kamchatskiy ru\n",
      "walvis bay na\n",
      "eskisehir tr\n",
      "praya id\n",
      "nizhniy odes ru\n",
      "kingsville us\n",
      "sioux lookout ca\n",
      "moron mn\n",
      "minot us\n",
      "kysyl-syr ru\n",
      "atherton au\n",
      "manicore br\n",
      "grand river south east mu\n",
      "eskasem af\n",
      "chase ca\n",
      "broome au\n",
      "anadyr ru\n",
      "ketchikan us\n",
      "ruatoria nz\n",
      "olga ru\n",
      "aberystwyth gb\n",
      "pisco pe\n",
      "vallenar cl\n",
      "mount gambier au\n",
      "tsihombe mg\n",
      "flinders au\n",
      "miyoshi jp\n",
      "tilichiki ru\n",
      "soyo ao\n",
      "halalo wf\n",
      "bertoua cm\n",
      "saint anthony ca\n",
      "banda aceh id\n",
      "nhulunbuy au\n",
      "bure et\n",
      "mendi et\n",
      "podor sn\n",
      "tabou ci\n",
      "guasdualito ve\n",
      "bilma ne\n",
      "rio brilhante br\n",
      "tawnat ma\n",
      "huilong cn\n",
      "kiruna se\n",
      "hami cn\n",
      "talcahuano cl\n",
      "galeana mx\n",
      "tautira pf\n",
      "egvekinot ru\n",
      "faanui pf\n",
      "aranos na\n",
      "atasu kz\n",
      "prince rupert ca\n",
      "petatlan mx\n",
      "luena ao\n",
      "wanaka nz\n",
      "nuuk gl\n",
      "kuandian cn\n",
      "prainha br\n",
      "carballo es\n",
      "gornopravdinsk ru\n",
      "khabary ru\n",
      "fort nelson ca\n",
      "itarema br\n",
      "postojna si\n",
      "riyadh sa\n",
      "sao domingos br\n",
      "altamira mx\n",
      "balad iq\n",
      "broadstairs gb\n",
      "kebemer sn\n",
      "santa cruz cl\n",
      "klaksvik fo\n",
      "tiarei pf\n",
      "namibe ao\n",
      "humaita br\n",
      "sungairaya id\n",
      "homer us\n",
      "kaliua tz\n",
      "innsbruck at\n",
      "cherskiy ru\n",
      "kushmurun kz\n",
      "point pedro lk\n",
      "wad rawah sd\n",
      "amazar ru\n",
      "warqla dz\n",
      "latung ph\n",
      "wolmaranstad za\n",
      "mahibadhoo mv\n",
      "tecoanapa mx\n",
      "pedernales do\n",
      "plouzane fr\n",
      "cayenne gf\n",
      "chardara kz\n",
      "berlevag no\n",
      "houston ca\n",
      "haibowan cn\n",
      "rio cuarto ar\n",
      "santa lucia co\n",
      "one hundred mile house ca\n",
      "thompson ca\n",
      "monopoli it\n",
      "maltahohe na\n",
      "najran sa\n",
      "caravelas br\n",
      "vikulovo ru\n",
      "davila ph\n",
      "sao joao da barra br\n",
      "wagga wagga au\n",
      "yar-sale ru\n",
      "biak id\n",
      "san cristobal ec\n",
      "acapulco mx\n",
      "rocha uy\n",
      "magnolia us\n",
      "kadhan pk\n",
      "lifford ie\n",
      "chalchihuites mx\n",
      "deputatskiy ru\n",
      "yankton us\n",
      "muros es\n",
      "the valley ai\n",
      "havre-saint-pierre ca\n",
      "dolbeau ca\n",
      "alice springs au\n",
      "seoul kr\n",
      "guerrero negro mx\n",
      "taltal cl\n",
      "vanimo pg\n",
      "mossendjo cg\n",
      "jaque pa\n",
      "myitkyina mm\n",
      "benemerito de las americas mx\n",
      "paragominas br\n",
      "maibong in\n",
      "baiyin cn\n",
      "paamiut gl\n",
      "kudahuvadhoo mv\n",
      "akyab mm\n",
      "pasni pk\n",
      "rosetown ca\n",
      "srednekolymsk ru\n",
      "acarau br\n",
      "lambayeque pe\n",
      "nizhneyansk ru\n",
      "frankfurt de\n",
      "cumana ve\n",
      "dedenevo ru\n",
      "santa maria cv\n",
      "sorong id\n",
      "derzhavinsk kz\n",
      "ixtapa mx\n",
      "gazli uz\n",
      "sabla bg\n",
      "rawannawi ki\n",
      "miyako jp\n",
      "zorritos pe\n",
      "juneau us\n",
      "gizo sb\n",
      "ahar ir\n",
      "asaba ng\n",
      "port moresby pg\n",
      "bairiki ki\n",
      "omboue ga\n",
      "rosetta eg\n",
      "todos santos mx\n",
      "hualmay pe\n",
      "vanavara ru\n",
      "calatayud es\n",
      "nouadhibou mr\n",
      "amboasary mg\n",
      "huazolotitlan mx\n",
      "arraial do cabo br\n",
      "port augusta au\n",
      "dengzhou cn\n",
      "narsaq gl\n",
      "benguela ao\n",
      "goure ne\n",
      "kavaratti in\n",
      "albion us\n",
      "bambous virieux mu\n",
      "leutkirch de\n",
      "mujiayingzi cn\n",
      "saint john ca\n",
      "krasnorechenskiy ru\n",
      "nemuro jp\n",
      "vawkavysk by\n",
      "hasaki jp\n",
      "mongoumba cf\n",
      "sibu my\n",
      "katsuura jp\n",
      "avera pf\n",
      "yarke pole ua\n",
      "luanda ao\n",
      "ozgon kg\n",
      "asau tv\n",
      "truro ca\n",
      "talnakh ru\n",
      "northam au\n",
      "quatre cocos mu\n",
      "balyaga ru\n",
      "vila franca do campo pt\n",
      "bukama cd\n",
      "cabedelo br\n",
      "nieves mx\n",
      "olinda br\n",
      "urusha ru\n",
      "batticaloa lk\n",
      "mayo ca\n",
      "mitchell us\n",
      "uromi ng\n",
      "lorengau pg\n",
      "katesh tz\n",
      "lerwick gb\n",
      "ucluelet ca\n",
      "tambo grande pe\n",
      "kesan tr\n",
      "imbituba br\n",
      "lingao cn\n",
      "fortuna us\n",
      "henties bay na\n",
      "marzuq ly\n",
      "puerto escondido mx\n",
      "chalmette us\n",
      "marcona pe\n",
      "port hedland au\n",
      "santa marta de tormes es\n",
      "meulaboh id\n",
      "peterongan id\n",
      "kahului us\n",
      "hays us\n",
      "mehamn no\n",
      "fort-shevchenko kz\n",
      "nurobod uz\n",
      "kenai us\n",
      "independence us\n",
      "chara ru\n",
      "chapais ca\n",
      "bosaso so\n",
      "cravo norte co\n",
      "laguna br\n",
      "kulhudhuffushi mv\n",
      "zaraza ve\n",
      "bodden town ky\n",
      "marsa matruh eg\n",
      "kununurra au\n",
      "broken hill au\n",
      "grand gaube mu\n",
      "kalabo zm\n",
      "markova ru\n",
      "chuzhou cn\n",
      "wulanhaote cn\n",
      "manokwari id\n",
      "novaya ladoga ru\n",
      "yelizovo ru\n",
      "nelson bay au\n",
      "yenagoa ng\n",
      "fairbanks us\n",
      "bac lieu vn\n",
      "vila do maio cv\n",
      "te anau nz\n",
      "jalu ly\n",
      "lima pe\n",
      "falealupo ws\n",
      "yumen cn\n",
      "jilin cn\n",
      "kasongo-lunda cd\n",
      "baturaja id\n",
      "esik kz\n",
      "shahr-e babak ir\n",
      "emba kz\n",
      "sinnamary gf\n",
      "raichur in\n",
      "yazoo city us\n",
      "puerto madryn ar\n",
      "skala fourkas gr\n",
      "coquimbo cl\n",
      "ensenada mx\n",
      "mocuba mz\n",
      "mount isa au\n",
      "ternate id\n",
      "arcos br\n",
      "nanchang cn\n",
      "houma us\n",
      "cabo san lucas mx\n",
      "katsiveli ua\n",
      "maragogi br\n",
      "sumbawanga tz\n",
      "teya ru\n",
      "galesong id\n",
      "sakakah sa\n",
      "palma es\n",
      "dobric bg\n",
      "sikonge tz\n",
      "thinadhoo mv\n",
      "pundaguitan ph\n",
      "redmond us\n",
      "sabang id\n",
      "lazaro cardenas mx\n",
      "nidda de\n",
      "skjervoy no\n",
      "tamamura jp\n",
      "lavrentiya ru\n",
      "nizhnevartovsk ru\n",
      "chimbote pe\n",
      "dakar sn\n",
      "ostrovnoy ru\n",
      "tidore id\n",
      "san juan del sur ni\n",
      "larap ph\n",
      "churhat in\n",
      "qandala so\n",
      "zachagansk kz\n",
      "touho nc\n",
      "kismayo so\n",
      "palia kalan in\n",
      "itaqui br\n",
      "fare pf\n",
      "ambon id\n",
      "naifaru mv\n",
      "roma au\n",
      "eureka us\n",
      "bonavista ca\n",
      "valparaiso mx\n",
      "tamandare br\n",
      "atar mr\n",
      "kvarkeno ru\n",
      "inhambane mz\n",
      "kazalinsk kz\n",
      "hohhot cn\n",
      "atambua id\n",
      "gusau ng\n",
      "solnechnyy ru\n",
      "namatanai pg\n",
      "villa de reyes mx\n",
      "vila velha br\n",
      "san jose gt\n",
      "bartica gy\n",
      "lata sb\n",
      "tessalit ml\n",
      "hofn is\n",
      "darhan mn\n",
      "hammerfest no\n",
      "meyungs pw\n",
      "vrutky sk\n",
      "vestmannaeyjar is\n",
      "bose cn\n",
      "nyurba ru\n",
      "lasa cn\n",
      "les cayes ht\n",
      "nabire id\n",
      "lalomanu ws\n",
      "bereda so\n",
      "porto nacional br\n",
      "limbang my\n",
      "nichinan jp\n",
      "emirdag tr\n",
      "port lincoln au\n",
      "smithers ca\n",
      "umzimvubu za\n",
      "labuhan id\n",
      "cap malheureux mu\n",
      "tobermory gb\n",
      "bayangol ru\n",
      "tabuk sa\n",
      "port macquarie au\n",
      "muzquiz mx\n",
      "ayorou ne\n",
      "sibolga id\n",
      "harrismith za\n",
      "ust-kamchatsk ru\n",
      "sechura pe\n",
      "sarangani ph\n",
      "isangel vu\n",
      "axim gh\n",
      "grand centre ca\n",
      "rotifunk sl\n",
      "matara lk\n",
      "hambantota lk\n",
      "kosonsoy uz\n",
      "attingal in\n",
      "zhangjiakou cn\n",
      "santa isabel do rio negro br\n",
      "gimli ca\n",
      "buala sb\n",
      "musoma tz\n",
      "warri ng\n",
      "venado tuerto ar\n",
      "praia da vitoria pt\n",
      "cairns au\n",
      "honningsvag no\n",
      "lensk ru\n",
      "halifax ca\n",
      "rehoboth na\n",
      "kajaani fi\n"
     ]
    }
   ],
   "source": [
    "# Create a set of random latitude and longitude combinations.\n",
    "latitudes = np.random.uniform(-90.000, 90.000, size=1500)\n",
    "longitudes = np.random.uniform(-180, 180, size=1500)"
   ]
  },
  {
   "cell_type": "markdown",
   "id": "71a662ef",
   "metadata": {},
   "source": [
    "# Create an empty list to store the cities names"
   ]
  },
  {
   "cell_type": "code",
   "execution_count": null,
   "id": "36ec1bd6",
   "metadata": {},
   "outputs": [],
   "source": [
    "# Create an empty list to store the cities names\n",
    "cities = []\n",
    "\n",
    "for i in range(len(latitudes)):\n",
    "    city = citipy.nearest_city(latitudes[i], longitudes[i])\n",
    "    city_name = city.city_name\n",
    "    country_name = city.country_code\n",
    "    # If the city is unique, then we will add it to the cities list.\n",
    "    if city_name not in cities:\n",
    "        cities.append(city_name)\n",
    "        print(city_name, country_name)"
   ]
  },
  {
   "cell_type": "markdown",
   "id": "80b84c79",
   "metadata": {},
   "source": [
    "# Print the city count to confirm sufficient count.\n",
    "### Many combinations of latitude and longitude fall on the ocean or inhabited places, so they do not work for our purpose.  That is why we generate so many coordinates, to make sure we end up with enough number of cities "
   ]
  },
  {
   "cell_type": "code",
   "execution_count": 35,
   "id": "0ea66228",
   "metadata": {},
   "outputs": [
    {
     "data": {
      "text/plain": [
       "620"
      ]
     },
     "execution_count": 35,
     "metadata": {},
     "output_type": "execute_result"
    }
   ],
   "source": [
    "# Print the city count to confirm sufficient count.\n",
    "len(cities)\n"
   ]
  },
  {
   "cell_type": "markdown",
   "id": "f6189bf7",
   "metadata": {},
   "source": [
    "# Section 6.2.1 Understanding APIs"
   ]
  },
  {
   "cell_type": "markdown",
   "id": "c3666eb1",
   "metadata": {},
   "source": [
    "# Section 6.2.2 Get Started with OpenWeatherMap API"
   ]
  },
  {
   "cell_type": "markdown",
   "id": "27db4488",
   "metadata": {},
   "source": [
    "#### API Key is in KeePass"
   ]
  },
  {
   "attachments": {
    "1_CkYtTM7RpMBB7mlqKwTSNg.png": {
     "image/png": "[encoded data removed]"
    }
   },
   "cell_type": "markdown",
   "id": "f96e4aec",
   "metadata": {},
   "source": [
    "![1_CkYtTM7RpMBB7mlqKwTSNg.png](attachment:1_CkYtTM7RpMBB7mlqKwTSNg.png)"
   ]
  },
  {
   "cell_type": "markdown",
   "id": "e3f78103",
   "metadata": {},
   "source": [
    "# Markdown Text"
   ]
  },
  {
   "cell_type": "code",
   "execution_count": 37,
   "id": "c472a851",
   "metadata": {},
   "outputs": [],
   "source": [
    "import requests\n",
    "requests.__version__\n",
    "\n",
    "# Import the API key.\n",
    "from config import weather_api_key"
   ]
  },
  {
   "cell_type": "markdown",
   "id": "98012d25",
   "metadata": {},
   "source": [
    "# Section 6.2.3 Make an API Call"
   ]
  },
  {
   "cell_type": "code",
   "execution_count": 39,
   "id": "4275d688",
   "metadata": {},
   "outputs": [
    {
     "name": "stdout",
     "output_type": "stream",
     "text": [
      "http://api.openweathermap.org/data/2.5/weather?units=Imperial&APPID=dbae6846e7161ec1efc3b432dba79f16\n"
     ]
    }
   ],
   "source": [
    "# Starting URL for Weather Map API Call.\n",
    "url = \"http://api.openweathermap.org/data/2.5/weather?units=Imperial&APPID=\" + weather_api_key\n",
    "# print(url)"
   ]
  },
  {
   "cell_type": "code",
   "execution_count": 40,
   "id": "e6e934f3",
   "metadata": {},
   "outputs": [
    {
     "name": "stdout",
     "output_type": "stream",
     "text": [
      "http://api.openweathermap.org/data/2.5/weather?units=Imperial&APPID=dbae6846e7161ec1efc3b432dba79f16&q=Boston\n"
     ]
    }
   ],
   "source": [
    "# Create an endpoint URL for a city.\n",
    "city_url = url + \"&q=\" + \"Boston\"\n",
    "# print(city_url)"
   ]
  },
  {
   "cell_type": "code",
   "execution_count": 41,
   "id": "dddc267f",
   "metadata": {},
   "outputs": [],
   "source": [
    "query_url = city_url"
   ]
  },
  {
   "cell_type": "code",
   "execution_count": 42,
   "id": "67a71b4f",
   "metadata": {},
   "outputs": [],
   "source": [
    "weather_response = requests.get(query_url)\n",
    "weather_json =weather_response.json()"
   ]
  },
  {
   "cell_type": "code",
   "execution_count": 43,
   "id": "cad8e67d",
   "metadata": {},
   "outputs": [
    {
     "data": {
      "text/plain": [
       "dict_keys(['coord', 'weather', 'base', 'main', 'visibility', 'wind', 'clouds', 'dt', 'sys', 'timezone', 'id', 'name', 'cod'])"
      ]
     },
     "execution_count": 43,
     "metadata": {},
     "output_type": "execute_result"
    }
   ],
   "source": [
    "weather_json.keys()"
   ]
  },
  {
   "cell_type": "code",
   "execution_count": 44,
   "id": "eafcbb8f",
   "metadata": {},
   "outputs": [
    {
     "data": {
      "text/plain": [
       "{'temp': 52.12,\n",
       " 'feels_like': 49.53,\n",
       " 'temp_min': 45.09,\n",
       " 'temp_max': 62.92,\n",
       " 'pressure': 1021,\n",
       " 'humidity': 53}"
      ]
     },
     "execution_count": 44,
     "metadata": {},
     "output_type": "execute_result"
    }
   ],
   "source": [
    "weather_json.get(\"main\")"
   ]
  },
  {
   "cell_type": "markdown",
   "id": "a1a25f88",
   "metadata": {},
   "source": [
    "# Section 6.2.4 Make a Request for Data to an API"
   ]
  },
  {
   "attachments": {
    "2022-03-15_16-35-00.png": {
     "image/png": "[encoded data removed]"
    }
   },
   "cell_type": "markdown",
   "id": "8b1689fc",
   "metadata": {},
   "source": [
    "![2022-03-15_16-35-00.png](attachment:2022-03-15_16-35-00.png)"
   ]
  },
  {
   "cell_type": "code",
   "execution_count": 45,
   "id": "e88f9062",
   "metadata": {},
   "outputs": [],
   "source": [
    "city_weather = requests.get(city_url)"
   ]
  },
  {
   "cell_type": "code",
   "execution_count": 46,
   "id": "0732e93c",
   "metadata": {},
   "outputs": [
    {
     "data": {
      "text/plain": [
       "<Response [200]>"
      ]
     },
     "execution_count": 46,
     "metadata": {},
     "output_type": "execute_result"
    }
   ],
   "source": [
    "city_weather"
   ]
  },
  {
   "cell_type": "code",
   "execution_count": 47,
   "id": "b08afed0",
   "metadata": {},
   "outputs": [
    {
     "data": {
      "text/plain": [
       "200"
      ]
     },
     "execution_count": 47,
     "metadata": {},
     "output_type": "execute_result"
    }
   ],
   "source": [
    "city_weather.status_code"
   ]
  },
  {
   "cell_type": "markdown",
   "id": "651051a0",
   "metadata": {},
   "source": [
    "#### Let's see what would happen if we misspelled a city name–\"Bston\" instead of \"Boston.\" Add the following code to a new cell and run the cell."
   ]
  },
  {
   "cell_type": "code",
   "execution_count": 48,
   "id": "7a954ad9",
   "metadata": {},
   "outputs": [
    {
     "data": {
      "text/plain": [
       "<Response [404]>"
      ]
     },
     "execution_count": 48,
     "metadata": {},
     "output_type": "execute_result"
    }
   ],
   "source": [
    "# Create an endpoint URL for a city.\n",
    "city_url = url + \"&q=\" + \"Bston\"\n",
    "city_weather = requests.get(city_url)\n",
    "city_weather"
   ]
  },
  {
   "cell_type": "markdown",
   "id": "c75af9ae",
   "metadata": {},
   "source": [
    "### Get Data from a Response"
   ]
  },
  {
   "cell_type": "code",
   "execution_count": 49,
   "id": "3211028a",
   "metadata": {},
   "outputs": [
    {
     "data": {
      "text/plain": [
       "<Response [200]>"
      ]
     },
     "execution_count": 49,
     "metadata": {},
     "output_type": "execute_result"
    }
   ],
   "source": [
    "# Create an endpoint URL for a city.\n",
    "city_url = url + \"&q=\" + \"Boston\"\n",
    "city_weather = requests.get(city_url)\n",
    "city_weather"
   ]
  },
  {
   "cell_type": "code",
   "execution_count": 50,
   "id": "5740f77e",
   "metadata": {},
   "outputs": [
    {
     "data": {
      "text/plain": [
       "'{\"coord\":{\"lon\":-71.0598,\"lat\":42.3584},\"weather\":[{\"id\":803,\"main\":\"Clouds\",\"description\":\"broken clouds\",\"icon\":\"04d\"}],\"base\":\"stations\",\"main\":{\"temp\":51.58,\"feels_like\":48.94,\"temp_min\":45.18,\"temp_max\":61.79,\"pressure\":1020,\"humidity\":53},\"visibility\":10000,\"wind\":{\"speed\":14.97,\"deg\":80},\"clouds\":{\"all\":75},\"dt\":1647376912,\"sys\":{\"type\":2,\"id\":2013408,\"country\":\"US\",\"sunrise\":1647341778,\"sunset\":1647384607},\"timezone\":-14400,\"id\":4930956,\"name\":\"Boston\",\"cod\":200}'"
      ]
     },
     "execution_count": 50,
     "metadata": {},
     "output_type": "execute_result"
    }
   ],
   "source": [
    "# Get the text of the 'Get' request.\n",
    "city_weather.text"
   ]
  },
  {
   "cell_type": "code",
   "execution_count": 51,
   "id": "eff7eae2",
   "metadata": {},
   "outputs": [
    {
     "data": {
      "text/plain": [
       "{'coord': {'lon': -71.0598, 'lat': 42.3584},\n",
       " 'weather': [{'id': 803,\n",
       "   'main': 'Clouds',\n",
       "   'description': 'broken clouds',\n",
       "   'icon': '04d'}],\n",
       " 'base': 'stations',\n",
       " 'main': {'temp': 51.58,\n",
       "  'feels_like': 48.94,\n",
       "  'temp_min': 45.18,\n",
       "  'temp_max': 61.79,\n",
       "  'pressure': 1020,\n",
       "  'humidity': 53},\n",
       " 'visibility': 10000,\n",
       " 'wind': {'speed': 14.97, 'deg': 80},\n",
       " 'clouds': {'all': 75},\n",
       " 'dt': 1647376912,\n",
       " 'sys': {'type': 2,\n",
       "  'id': 2013408,\n",
       "  'country': 'US',\n",
       "  'sunrise': 1647341778,\n",
       "  'sunset': 1647384607},\n",
       " 'timezone': -14400,\n",
       " 'id': 4930956,\n",
       " 'name': 'Boston',\n",
       " 'cod': 200}"
      ]
     },
     "execution_count": 51,
     "metadata": {},
     "output_type": "execute_result"
    }
   ],
   "source": [
    "# Get the JSON text of the 'Get' request.\n",
    "city_weather.json()"
   ]
  },
  {
   "cell_type": "markdown",
   "id": "533eb07c",
   "metadata": {},
   "source": [
    "### Handle Request Errors"
   ]
  },
  {
   "cell_type": "code",
   "execution_count": 52,
   "id": "8c89adfa",
   "metadata": {},
   "outputs": [
    {
     "name": "stdout",
     "output_type": "stream",
     "text": [
      "City Weather found.\n"
     ]
    }
   ],
   "source": [
    "# Create an endpoint URL for a city.\n",
    "city_url = url + \"&q=\" + \"Boston\"\n",
    "city_weather = requests.get(city_url)\n",
    "if city_weather.status_code == 200:\n",
    "    print(f\"City Weather found.\")\n",
    "else:\n",
    "    print(f\"City weather not found.\")"
   ]
  },
  {
   "cell_type": "code",
   "execution_count": 53,
   "id": "50238c45",
   "metadata": {},
   "outputs": [
    {
     "name": "stdout",
     "output_type": "stream",
     "text": [
      "City weather not found.\n"
     ]
    }
   ],
   "source": [
    "# Create an endpoint URL for a city.\n",
    "city_url = url + \"&q=\" + \"Bston\"\n",
    "city_weather = requests.get(city_url)\n",
    "if city_weather.status_code == 200:\n",
    "    print(f\"City Weather found.\")\n",
    "else:\n",
    "    print(f\"City weather not found.\")"
   ]
  },
  {
   "cell_type": "markdown",
   "id": "6465c7e7",
   "metadata": {},
   "source": [
    "# Section 6.2.5 Parse a Response from an API"
   ]
  },
  {
   "cell_type": "code",
   "execution_count": 54,
   "id": "c2e86622",
   "metadata": {},
   "outputs": [
    {
     "data": {
      "text/plain": [
       "{'coord': {'lon': -71.0598, 'lat': 42.3584},\n",
       " 'weather': [{'id': 803,\n",
       "   'main': 'Clouds',\n",
       "   'description': 'broken clouds',\n",
       "   'icon': '04d'}],\n",
       " 'base': 'stations',\n",
       " 'main': {'temp': 46.58,\n",
       "  'feels_like': 39.78,\n",
       "  'temp_min': 43.05,\n",
       "  'temp_max': 51.93,\n",
       "  'pressure': 1021,\n",
       "  'humidity': 66},\n",
       " 'visibility': 10000,\n",
       " 'wind': {'speed': 17, 'deg': 0, 'gust': 0},\n",
       " 'clouds': {'all': 75},\n",
       " 'dt': 1647383856,\n",
       " 'sys': {'type': 2,\n",
       "  'id': 2013408,\n",
       "  'country': 'US',\n",
       "  'sunrise': 1647341778,\n",
       "  'sunset': 1647384607},\n",
       " 'timezone': -14400,\n",
       " 'id': 4930956,\n",
       " 'name': 'Boston',\n",
       " 'cod': 200}"
      ]
     },
     "execution_count": 54,
     "metadata": {},
     "output_type": "execute_result"
    }
   ],
   "source": [
    "# Create an endpoint URL for a city.\n",
    "city_url = url + \"&q=\" + \"Boston\"\n",
    "city_weather = requests.get(city_url)\n",
    "city_weather.json()"
   ]
  },
  {
   "cell_type": "code",
   "execution_count": 55,
   "id": "5e950970",
   "metadata": {},
   "outputs": [],
   "source": [
    "# Get the JSON data.\n",
    "boston_data = city_weather.json()"
   ]
  },
  {
   "cell_type": "code",
   "execution_count": 56,
   "id": "45e91047",
   "metadata": {},
   "outputs": [
    {
     "data": {
      "text/plain": [
       "'US'"
      ]
     },
     "execution_count": 56,
     "metadata": {},
     "output_type": "execute_result"
    }
   ],
   "source": [
    "# To begin the parsing process, let's get the 'sys' part for the Boston Data\n",
    "boston_data['sys']['country']"
   ]
  },
  {
   "cell_type": "code",
   "execution_count": 57,
   "id": "7c165104",
   "metadata": {},
   "outputs": [
    {
     "data": {
      "text/plain": [
       "-71.0598"
      ]
     },
     "execution_count": 57,
     "metadata": {},
     "output_type": "execute_result"
    }
   ],
   "source": [
    "boston_data['coord']['lon']"
   ]
  },
  {
   "cell_type": "code",
   "execution_count": 58,
   "id": "59122fbb",
   "metadata": {},
   "outputs": [
    {
     "data": {
      "text/plain": [
       "42.3584"
      ]
     },
     "execution_count": 58,
     "metadata": {},
     "output_type": "execute_result"
    }
   ],
   "source": [
    "boston_data['coord']['lat']"
   ]
  },
  {
   "cell_type": "code",
   "execution_count": 59,
   "id": "19ab65bf",
   "metadata": {},
   "outputs": [
    {
     "name": "stdout",
     "output_type": "stream",
     "text": [
      "42.3584 -71.0598 51.93 66 75 17\n"
     ]
    }
   ],
   "source": [
    "lat = boston_data[\"coord\"][\"lat\"]\n",
    "lng = boston_data[\"coord\"][\"lon\"]\n",
    "max_temp = boston_data[\"main\"][\"temp_max\"]\n",
    "humidity = boston_data[\"main\"][\"humidity\"]\n",
    "clouds = boston_data[\"clouds\"][\"all\"]\n",
    "wind = boston_data[\"wind\"][\"speed\"]\n",
    "print(lat, lng, max_temp, humidity, clouds, wind)"
   ]
  },
  {
   "cell_type": "markdown",
   "id": "460d5f6e",
   "metadata": {},
   "source": [
    "###  convert the date from the Boston weather data in the JSON format to the ISO format."
   ]
  },
  {
   "cell_type": "code",
   "execution_count": 61,
   "id": "1752e026",
   "metadata": {},
   "outputs": [
    {
     "data": {
      "text/plain": [
       "'2022-03-15 22:37:36'"
      ]
     },
     "execution_count": 61,
     "metadata": {},
     "output_type": "execute_result"
    }
   ],
   "source": [
    "# Import the datetime module from the datetime library.\n",
    "from datetime import datetime\n",
    "# Get the date from the JSON file.\n",
    "date = boston_data[\"dt\"]\n",
    "# Convert the UTC date to a date format with year, month, day, hours, minutes, and seconds.\n",
    "datetime.utcfromtimestamp(date)\n",
    "# Convert the string to something easier to read for the human eye\n",
    "datetime.utcfromtimestamp(date).strftime('%Y-%m-%d %H:%M:%S')"
   ]
  },
  {
   "cell_type": "markdown",
   "id": "2f65f32f",
   "metadata": {},
   "source": [
    "# Section 6.2.6 Get the City Weather Data"
   ]
  },
  {
   "cell_type": "code",
   "execution_count": null,
   "id": "ad945899",
   "metadata": {},
   "outputs": [],
   "source": []
  }
 ],
 "metadata": {
  "kernelspec": {
   "display_name": "PythonData",
   "language": "python",
   "name": "pythondata"
  },
  "language_info": {
   "codemirror_mode": {
    "name": "ipython",
    "version": 3
   },
   "file_extension": ".py",
   "mimetype": "text/x-python",
   "name": "python",
   "nbconvert_exporter": "python",
   "pygments_lexer": "ipython3",
   "version": "3.7.11"
  }
 },
 "nbformat": 4,
 "nbformat_minor": 5
}
