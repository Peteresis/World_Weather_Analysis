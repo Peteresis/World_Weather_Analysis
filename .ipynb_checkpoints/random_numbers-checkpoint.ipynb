{
 "cells": [
  {
   "cell_type": "markdown",
   "id": "25c77f7d",
   "metadata": {},
   "source": [
    "# Section 6.1.4 Generate Random Latitudes and Longitudes"
   ]
  },
  {
   "cell_type": "code",
   "execution_count": 1,
   "id": "685b13bf",
   "metadata": {},
   "outputs": [
    {
     "name": "stdout",
     "output_type": "stream",
     "text": [
      "Requirement already satisfied: numpy in c:\\users\\user\\appdata\\local\\programs\\python\\python310\\lib\\site-packages (1.22.3)\n"
     ]
    }
   ],
   "source": [
    "# Install a pip package in the current Jupyter kernel\n",
    "import sys\n",
    "!{sys.executable} -m pip install numpy"
   ]
  },
  {
   "cell_type": "code",
   "execution_count": 2,
   "id": "65761370",
   "metadata": {},
   "outputs": [],
   "source": [
    "# Import the random module.\n",
    "import random"
   ]
  },
  {
   "cell_type": "markdown",
   "id": "15683710",
   "metadata": {},
   "source": [
    "### For testing, we'll use the randint(), random(), randrange(), and uniform() functions."
   ]
  },
  {
   "cell_type": "code",
   "execution_count": 3,
   "id": "31b87592",
   "metadata": {},
   "outputs": [
    {
     "data": {
      "text/plain": [
       "75"
      ]
     },
     "execution_count": 3,
     "metadata": {},
     "output_type": "execute_result"
    }
   ],
   "source": [
    "random.randint(-90, 90)\n"
   ]
  },
  {
   "cell_type": "code",
   "execution_count": 4,
   "id": "c3ab0c14",
   "metadata": {},
   "outputs": [
    {
     "data": {
      "text/plain": [
       "0.7150818436968508"
      ]
     },
     "execution_count": 4,
     "metadata": {},
     "output_type": "execute_result"
    }
   ],
   "source": [
    "random.random()"
   ]
  },
  {
   "cell_type": "code",
   "execution_count": 5,
   "id": "171379bf",
   "metadata": {},
   "outputs": [
    {
     "data": {
      "text/plain": [
       "-5.290179770895809"
      ]
     },
     "execution_count": 5,
     "metadata": {},
     "output_type": "execute_result"
    }
   ],
   "source": [
    "random_number = random.randint(-90, 89) + random.random()\n",
    "random_number"
   ]
  },
  {
   "cell_type": "markdown",
   "id": "c2c8a3b8",
   "metadata": {},
   "source": [
    "### Here is a small sample of what it might take to generate ten random floating-point decimal latitudes between –90 and 89."
   ]
  },
  {
   "cell_type": "code",
   "execution_count": 6,
   "id": "9b438aa3",
   "metadata": {},
   "outputs": [],
   "source": [
    "x = 1\n",
    "latitudes = []\n",
    "while x < 11:\n",
    "    random_lat = random.randint(-90, 89) + random.random()\n",
    "    latitudes.append(random_lat)\n",
    "    x += 1"
   ]
  },
  {
   "cell_type": "code",
   "execution_count": 7,
   "id": "dc35c9d5",
   "metadata": {},
   "outputs": [
    {
     "data": {
      "text/plain": [
       "[-27.818940782265642,\n",
       " -51.6189325814562,\n",
       " 80.11925010821702,\n",
       " -24.48334993851764,\n",
       " 21.76161649353629,\n",
       " 12.19352113514537,\n",
       " -61.327485378682496,\n",
       " 43.08233370778886,\n",
       " 3.6732095554505864,\n",
       " 33.5709119483752]"
      ]
     },
     "execution_count": 7,
     "metadata": {},
     "output_type": "execute_result"
    }
   ],
   "source": [
    "latitudes"
   ]
  },
  {
   "cell_type": "code",
   "execution_count": 8,
   "id": "06767259",
   "metadata": {},
   "outputs": [
    {
     "data": {
      "text/plain": [
       "-54"
      ]
     },
     "execution_count": 8,
     "metadata": {},
     "output_type": "execute_result"
    }
   ],
   "source": [
    "random.randrange(-90, 90, step=3)"
   ]
  },
  {
   "cell_type": "code",
   "execution_count": 9,
   "id": "1c7b2565",
   "metadata": {},
   "outputs": [
    {
     "data": {
      "text/plain": [
       "-47.0976349751822"
      ]
     },
     "execution_count": 9,
     "metadata": {},
     "output_type": "execute_result"
    }
   ],
   "source": [
    "random.uniform(-90, 90)"
   ]
  },
  {
   "cell_type": "code",
   "execution_count": 10,
   "id": "d08ecda5",
   "metadata": {},
   "outputs": [],
   "source": [
    "# Import the NumPy module.\n",
    "import numpy as np"
   ]
  },
  {
   "cell_type": "markdown",
   "id": "78b7da4b",
   "metadata": {},
   "source": [
    "#### This single line of code generates 50 random numbers with the amount of decimals that we need, all without using loops"
   ]
  },
  {
   "cell_type": "code",
   "execution_count": 11,
   "id": "9a1c4848",
   "metadata": {
    "scrolled": false
   },
   "outputs": [
    {
     "data": {
      "text/plain": [
       "array([ 22.14095461,  19.27820859,  54.38795579,   2.41485928,\n",
       "        36.37357306, -71.74002713,  46.47696629,  48.83362046,\n",
       "        48.37327238,  -8.27395288,   4.79976507, -84.9606238 ,\n",
       "       -21.01481046,  32.34592254, -22.43179776,  38.94571509,\n",
       "       -34.94266835, -64.22877988, -50.35081648, -68.34464759,\n",
       "        54.97421272,  58.77106032,  28.83201098,  83.87149645,\n",
       "        22.55129877,  79.30802455,  64.98244929,  -2.48286994,\n",
       "       -24.22948529, -79.30853862,  -0.10875668,  88.96223117,\n",
       "        63.67970033,  49.49624653, -19.55210645,  36.21057897,\n",
       "       -61.238236  , -75.59056907, -27.39772026, -84.97711746,\n",
       "        35.70335864,  39.77771373,  87.29821193, -10.4099815 ,\n",
       "        -1.13405105, -72.38024824,  16.61062496, -30.63137951,\n",
       "       -86.12078001, -29.50716005])"
      ]
     },
     "execution_count": 11,
     "metadata": {},
     "output_type": "execute_result"
    }
   ],
   "source": [
    "np.random.uniform(-90.000, 90.000, size=50)"
   ]
  },
  {
   "cell_type": "markdown",
   "id": "29e56d46",
   "metadata": {},
   "source": [
    "### Use of the function %timeit to measure the time it takes to run this command"
   ]
  },
  {
   "cell_type": "code",
   "execution_count": 12,
   "id": "bd24ffcc",
   "metadata": {},
   "outputs": [
    {
     "name": "stdout",
     "output_type": "stream",
     "text": [
      "6.69 µs ± 462 ns per loop (mean ± std. dev. of 7 runs, 100,000 loops each)\n"
     ]
    }
   ],
   "source": [
    "%timeit np.random.uniform(-90.000, 90.000, size=50)"
   ]
  },
  {
   "cell_type": "markdown",
   "id": "9a1043a0",
   "metadata": {},
   "source": [
    "### Now, generating 1500 latitudes and 1500 longitudes\n",
    "#### Remember: Latitud runs north-south and longitude runs east-west"
   ]
  },
  {
   "cell_type": "code",
   "execution_count": 13,
   "id": "3a82edca",
   "metadata": {},
   "outputs": [],
   "source": [
    "latitudes = np.random.uniform(-90.000, 90.000, size=15000)"
   ]
  },
  {
   "cell_type": "code",
   "execution_count": 14,
   "id": "be858a49",
   "metadata": {},
   "outputs": [
    {
     "data": {
      "text/plain": [
       "array([  4.90400222, -12.81900812, -46.10087267, ...,  10.13460753,\n",
       "        35.88710536,  87.23565783])"
      ]
     },
     "execution_count": 14,
     "metadata": {},
     "output_type": "execute_result"
    }
   ],
   "source": [
    "latitudes"
   ]
  },
  {
   "cell_type": "code",
   "execution_count": 15,
   "id": "2805052d",
   "metadata": {},
   "outputs": [],
   "source": [
    "longitudes = np.random.uniform(0, 365, size=15000)"
   ]
  },
  {
   "cell_type": "code",
   "execution_count": 16,
   "id": "fb90febc",
   "metadata": {},
   "outputs": [
    {
     "data": {
      "text/plain": [
       "array([267.81247452,  12.88830378, 204.89538055, ...,   8.03749339,\n",
       "       117.65730628, 344.8540588 ])"
      ]
     },
     "execution_count": 16,
     "metadata": {},
     "output_type": "execute_result"
    }
   ],
   "source": [
    "longitudes"
   ]
  },
  {
   "cell_type": "code",
   "execution_count": null,
   "id": "b036b5c7",
   "metadata": {},
   "outputs": [],
   "source": []
  }
 ],
 "metadata": {
  "kernelspec": {
   "display_name": "Python 3 (ipykernel)",
   "language": "python",
   "name": "python3"
  },
  "language_info": {
   "codemirror_mode": {
    "name": "ipython",
    "version": 3
   },
   "file_extension": ".py",
   "mimetype": "text/x-python",
   "name": "python",
   "nbconvert_exporter": "python",
   "pygments_lexer": "ipython3",
   "version": "3.10.3"
  }
 },
 "nbformat": 4,
 "nbformat_minor": 5
}
