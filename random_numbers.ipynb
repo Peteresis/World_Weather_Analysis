{
 "cells": [
  {
   "cell_type": "markdown",
   "id": "e0d2b4f1",
   "metadata": {},
   "source": [
    "# Section 6.1.4 Generate Random Latitudes and Longitudes"
   ]
  },
  {
   "cell_type": "code",
   "execution_count": 4,
   "id": "956ea185",
   "metadata": {},
   "outputs": [],
   "source": [
    "# Import the random module.\n",
    "import random"
   ]
  },
  {
   "cell_type": "markdown",
   "id": "f9a371c0",
   "metadata": {},
   "source": [
    "### For testing, we'll use the randint(), random(), randrange(), and uniform() functions."
   ]
  },
  {
   "cell_type": "code",
   "execution_count": 7,
   "id": "dabcf097",
   "metadata": {},
   "outputs": [
    {
     "data": {
      "text/plain": [
       "-78"
      ]
     },
     "execution_count": 7,
     "metadata": {},
     "output_type": "execute_result"
    }
   ],
   "source": [
    "random.randint(-90, 90)\n"
   ]
  },
  {
   "cell_type": "code",
   "execution_count": 8,
   "id": "0d3ae0d8",
   "metadata": {},
   "outputs": [
    {
     "data": {
      "text/plain": [
       "0.6420273828807409"
      ]
     },
     "execution_count": 8,
     "metadata": {},
     "output_type": "execute_result"
    }
   ],
   "source": [
    "random.random()"
   ]
  },
  {
   "cell_type": "code",
   "execution_count": 10,
   "id": "aa109f4f",
   "metadata": {},
   "outputs": [
    {
     "data": {
      "text/plain": [
       "39.155524351946006"
      ]
     },
     "execution_count": 10,
     "metadata": {},
     "output_type": "execute_result"
    }
   ],
   "source": [
    "random_number = random.randint(-90, 89) + random.random()\n",
    "random_number"
   ]
  },
  {
   "cell_type": "markdown",
   "id": "f6ab0a52",
   "metadata": {},
   "source": [
    "### Here is a small sample of what it might take to generate ten random floating-point decimal latitudes between –90 and 89."
   ]
  },
  {
   "cell_type": "code",
   "execution_count": 11,
   "id": "01b35ad2",
   "metadata": {},
   "outputs": [],
   "source": [
    "x = 1\n",
    "latitudes = []\n",
    "while x < 11:\n",
    "    random_lat = random.randint(-90, 89) + random.random()\n",
    "    latitudes.append(random_lat)\n",
    "    x += 1"
   ]
  },
  {
   "cell_type": "code",
   "execution_count": 12,
   "id": "c3678b25",
   "metadata": {},
   "outputs": [
    {
     "data": {
      "text/plain": [
       "[-23.94477555559028,\n",
       " -3.6956092064188413,\n",
       " 53.868218012423995,\n",
       " -55.67785716076141,\n",
       " 56.63619116684982,\n",
       " -61.76769641115041,\n",
       " -28.357967487620726,\n",
       " 77.8972946450349,\n",
       " 28.874363439240177,\n",
       " 85.9992952916276]"
      ]
     },
     "execution_count": 12,
     "metadata": {},
     "output_type": "execute_result"
    }
   ],
   "source": [
    "latitudes"
   ]
  },
  {
   "cell_type": "code",
   "execution_count": 13,
   "id": "d8a7ee3c",
   "metadata": {},
   "outputs": [
    {
     "data": {
      "text/plain": [
       "-42"
      ]
     },
     "execution_count": 13,
     "metadata": {},
     "output_type": "execute_result"
    }
   ],
   "source": [
    "random.randrange(-90, 90, step=3)"
   ]
  },
  {
   "cell_type": "code",
   "execution_count": 14,
   "id": "4485d731",
   "metadata": {},
   "outputs": [
    {
     "data": {
      "text/plain": [
       "13.291074254348018"
      ]
     },
     "execution_count": 14,
     "metadata": {},
     "output_type": "execute_result"
    }
   ],
   "source": [
    "random.uniform(-90, 90)"
   ]
  },
  {
   "cell_type": "code",
   "execution_count": 15,
   "id": "63ac9c7e",
   "metadata": {},
   "outputs": [],
   "source": [
    "# Import the NumPy module.\n",
    "import numpy as np"
   ]
  },
  {
   "cell_type": "markdown",
   "id": "61efa1ab",
   "metadata": {},
   "source": [
    "#### This single line of code generates 50 random numbers with the amount of decimals that we need, all without using loops"
   ]
  },
  {
   "cell_type": "code",
   "execution_count": 20,
   "id": "19ec59f2",
   "metadata": {
    "scrolled": true
   },
   "outputs": [
    {
     "data": {
      "text/plain": [
       "array([ 31.86318456, -39.78086032,  82.96815115, -82.11175436,\n",
       "       -72.80361132,  39.29967893, -66.23756842,  85.85240455,\n",
       "        88.30736716,  28.03241689,  28.43456982,  36.85872107,\n",
       "       -63.01362538,  15.99947633,  22.73588773,  82.06657281,\n",
       "        30.70842178,   7.19590125,  -9.08781379,  84.2013411 ,\n",
       "        87.5552951 , -26.94532965,  86.87799277,  68.31206708,\n",
       "        56.3567878 ,  31.66635597, -43.9286175 , -16.57216182,\n",
       "       -68.06212708,  51.76563239, -19.2046535 ,  16.49052805,\n",
       "        84.02021627,   3.87864716, -61.98993202, -18.26028408,\n",
       "         3.57755722,  14.70320856,  33.01053174, -42.17921236,\n",
       "       -55.85038803,  86.28819794,  19.57454293,  30.50066562,\n",
       "        21.05640831,  88.26187309,  35.11260564,  24.00056598,\n",
       "        86.08797468, -10.25196281])"
      ]
     },
     "execution_count": 20,
     "metadata": {},
     "output_type": "execute_result"
    }
   ],
   "source": [
    "np.random.uniform(-90.000, 90.000, size=50)"
   ]
  },
  {
   "cell_type": "markdown",
   "id": "a07db8e7",
   "metadata": {},
   "source": [
    "### Use of the function %timeit to measure the time it takes to run this command"
   ]
  },
  {
   "cell_type": "code",
   "execution_count": 22,
   "id": "9b16b788",
   "metadata": {},
   "outputs": [
    {
     "name": "stdout",
     "output_type": "stream",
     "text": [
      "6.36 µs ± 270 ns per loop (mean ± std. dev. of 7 runs, 100000 loops each)\n"
     ]
    }
   ],
   "source": [
    "%timeit np.random.uniform(-90.000, 90.000, size=50)"
   ]
  },
  {
   "cell_type": "markdown",
   "id": "2a5f7c8a",
   "metadata": {},
   "source": [
    "### Now, generating 1500 latitudes and 1500 longitudes\n",
    "#### Remember: Latitud runs north-south and longitude runs east-west"
   ]
  },
  {
   "cell_type": "code",
   "execution_count": 25,
   "id": "b1b0cffc",
   "metadata": {},
   "outputs": [],
   "source": [
    "latitudes = np.random.uniform(-90.000, 90.000, size=15000)"
   ]
  },
  {
   "cell_type": "code",
   "execution_count": 24,
   "id": "a0492d7e",
   "metadata": {},
   "outputs": [
    {
     "data": {
      "text/plain": [
       "array([ 36.82084528, -48.77652957, -34.74055569, ...,  66.25615726,\n",
       "       -19.11650063,   3.52165397])"
      ]
     },
     "execution_count": 24,
     "metadata": {},
     "output_type": "execute_result"
    }
   ],
   "source": [
    "latitudes"
   ]
  },
  {
   "cell_type": "code",
   "execution_count": 26,
   "id": "d7882da9",
   "metadata": {},
   "outputs": [],
   "source": [
    "longitudes = np.random.uniform(0, 365, size=15000)"
   ]
  },
  {
   "cell_type": "code",
   "execution_count": 27,
   "id": "ae12cff4",
   "metadata": {},
   "outputs": [
    {
     "data": {
      "text/plain": [
       "array([323.14264228, 201.23336295,  67.90587579, ...,  78.27305983,\n",
       "        79.143136  , 117.91071419])"
      ]
     },
     "execution_count": 27,
     "metadata": {},
     "output_type": "execute_result"
    }
   ],
   "source": [
    "longitudes"
   ]
  },
  {
   "cell_type": "code",
   "execution_count": null,
   "id": "e1845d77",
   "metadata": {},
   "outputs": [],
   "source": []
  }
 ],
 "metadata": {
  "kernelspec": {
   "display_name": "PythonData",
   "language": "python",
   "name": "pythondata"
  },
  "language_info": {
   "codemirror_mode": {
    "name": "ipython",
    "version": 3
   },
   "file_extension": ".py",
   "mimetype": "text/x-python",
   "name": "python",
   "nbconvert_exporter": "python",
   "pygments_lexer": "ipython3",
   "version": "3.7.11"
  }
 },
 "nbformat": 4,
 "nbformat_minor": 5
}
